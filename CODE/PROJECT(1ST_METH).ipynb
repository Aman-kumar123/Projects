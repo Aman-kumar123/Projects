import pandas as pd
class Utility:
    def __init__(self,data = pd.read_csv(r"C:\Users\aman.kumar\Downloads\python ass data.csv")):
        self.df = data 
    
    def dateFormatting(self):     #Date formatting (YY-MM-DD)
        try:
            self.df['DATE'] = pd.to_datetime(self.df['DATE'])
            self.df['DATE'] = self.df['DATE'].dt.strftime('%Y-%m-%d')
            return self.df
        except Exception as e:
            print(e)
        
    def avgYear(self):            #Average According to Year
        try:
            self.dateFormatting()
            sub = self.df.groupby(['YEAR_OF_PASSING', 'FIRST_NAME', 'LAST_NAME',
                              'TOTAL_MARKS'],as_index=False).mean()
            sub['AVERAGE_YEARLY'] = sub['MARKS']
            sub.drop(['MARKS'],axis=1,inplace=True)
            self.df = pd.merge(self.df,sub,on=['FIRST_NAME','YEAR_OF_PASSING'],how='left')
            self.df.drop(['LAST_NAME_y',
                       'TOTAL_MARKS_y'],axis=1,inplace=True)
            return self.df
        except Exception as e:
            print(e)
    
    def avgSub(self):              #Average According to Subject
        try:
            self.avgYear()
            new=self.df.groupby(['YEAR_OF_PASSING', 'FIRST_NAME', 'LAST_NAME','TOTAL_MARKS','SUBJECTS'],as_index=False)['MARKS'].mean()
            new['AVERAGE_Marks']=new['MARKS']
            self.df=pd.merge(self.df,new,on=['FIRST_NAME','SUBJECTS'],how='left')
            self.df.drop(['YEAR_OF_PASSING_y','LAST_NAME',
                      'TOTAL_MARKS',
                      'MARKS_y'],axis=1,inplace=True)
            self.df.rename(columns={'LAST_NAME_x': 'LAST_NAME','TOTAL_MARKS_x':'TOTAL_MARKS',
                                'MARKS_x':'MARKS','YEAR_OF_PASSING_x':'YEAR_OF_PASSING'}, inplace=True)
            return self.df
        except Exception as e:
            print(e)
            
    def grade_mapping(self, values):       #Grade Mappiing According to marks
        try:
            grades={90:'S',80:'A',70:'B',60:'C',50:'D',40:'E',30:'F'}
            for key in grades.items():
                if values>=key:
                    return values
        except Exception as e:
            print(e)
            
    def gradeMap(self):
        try:
            self.avgSub()
            grade=self.df['AVERAGE_YEARLY'].map(self.grade_mapping)
            self.df['GradeAccordToYear']=pd.Categorical(grade,categories=grades.values(),ordered=True)
            return self.df
        except Exception as e:
            print(e)
        
class SplitFile(Utility):
    try:
        def splitNewFile(self):
            self.gradeMap()
            for i,j in self.df.groupby(['DATE']):
                ##j.to_csv(f'{i}.csv.gz', index=False)  ## Gzip Format
                j.to_csv(f'{i}.csv', index=False)  ## Csv format
    except Exception as e:
        print(e)
